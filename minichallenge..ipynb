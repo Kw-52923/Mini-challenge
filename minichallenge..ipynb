{
 "cells": [
  {
   "cell_type": "markdown",
   "id": "a2f575f7",
   "metadata": {},
   "source": [
    "# Dia 1 - Inversión de una Cadena\n",
    "Escribe un programa que invierta una cadena de caracteres dada por el\n",
    "usuario."
   ]
  },
  {
   "cell_type": "code",
   "execution_count": 1,
   "id": "45e36b47",
   "metadata": {},
   "outputs": [
    {
     "name": "stdout",
     "output_type": "stream",
     "text": [
      "Texto invertido: aloh\n"
     ]
    }
   ],
   "source": [
    "texto = input(\"Escribí una palabra o frase: \")\n",
    "invertido = texto[::-1]\n",
    "print(\"Texto invertido:\", invertido)\n"
   ]
  },
  {
   "cell_type": "markdown",
   "id": "196807e6",
   "metadata": {},
   "source": [
    "# Dia 2 - Tabla de Multiplicar\n",
    "Escribe un programa que muestre la tabla de multiplicar de un número\n",
    "dado por el usuario."
   ]
  },
  {
   "cell_type": "code",
   "execution_count": null,
   "id": "17cd4c07",
   "metadata": {},
   "outputs": [],
   "source": [
    "numero = int(input(\"Escribí un número: \"))\n",
    "for i in range(1, 11):\n",
    "    print(numero, \"x\", i, \"=\", numero * i)\n"
   ]
  },
  {
   "cell_type": "markdown",
   "id": "ebea3e26",
   "metadata": {},
   "source": [
    "# Dia 3 - Contar Vocales\n",
    "Escribe un programa que cuente el número de vocales en una cadena\n",
    "dada"
   ]
  },
  {
   "cell_type": "code",
   "execution_count": 3,
   "id": "f9d4941e",
   "metadata": {},
   "outputs": [
    {
     "name": "stdout",
     "output_type": "stream",
     "text": [
      "Cantidad de vocales: 5\n"
     ]
    }
   ],
   "source": [
    "texto = input(\"Escribí una frase: \")\n",
    "vocales = \"aeiouAEIOU\"\n",
    "contador = 0\n",
    "for letra in texto:\n",
    "    if letra in vocales:\n",
    "        contador += 1\n",
    "print(\"Cantidad de vocales:\", contador)\n"
   ]
  },
  {
   "cell_type": "markdown",
   "id": "25b59e7a",
   "metadata": {},
   "source": [
    "# Dia 4 - Ordenar Lista\n",
    "Escribe un programa que ordene una lista de números dada por el usuario\n",
    "en orden ascendente.\n"
   ]
  },
  {
   "cell_type": "code",
   "execution_count": 4,
   "id": "0c302a59",
   "metadata": {},
   "outputs": [
    {
     "name": "stdout",
     "output_type": "stream",
     "text": [
      "Lista ordenada: [6, 9, 11, 14, 23]\n"
     ]
    }
   ],
   "source": [
    "entrada = input(\"Escribí números separados por coma: \")\n",
    "numeros = list(map(int, entrada.split(\",\")))\n",
    "numeros.sort()\n",
    "print(\"Lista ordenada:\", numeros)\n"
   ]
  },
  {
   "cell_type": "markdown",
   "id": "e050bc9b",
   "metadata": {},
   "source": [
    "# Dia 5 - Crear un Diccionario\n",
    "Escribe un programa que cree un diccionario a partir de dos listas dadas:\n",
    "una de claves y otra de valores."
   ]
  },
  {
   "cell_type": "code",
   "execution_count": null,
   "id": "e475a5a4",
   "metadata": {},
   "outputs": [],
   "source": [
    "claves = input(\"Escribí claves separadas por coma: \").split(\",\")\n",
    "valores = input(\"Escribí valores separados por coma: \").split(\",\")\n",
    "diccionario = dict(zip(claves, valores))\n",
    "print(\"Diccionario:\", diccionario)\n"
   ]
  },
  {
   "cell_type": "markdown",
   "id": "39db169f",
   "metadata": {},
   "source": [
    "# Dia 6 - Conversión de Temperatura\n",
    "Escribe un programa que convierta una temperatura dada en grados\n",
    "Celsius a grados Fahrenheit."
   ]
  },
  {
   "cell_type": "code",
   "execution_count": null,
   "id": "169fc951",
   "metadata": {},
   "outputs": [],
   "source": [
    "c = float(input(\"Temperatura en °C: \"))\n",
    "f = (c * 9/5) + 32\n",
    "print(\"Temperatura en °F:\", f)\n"
   ]
  },
  {
   "cell_type": "markdown",
   "id": "6be1cca3",
   "metadata": {},
   "source": [
    "# Dia 7 - Juego de Piedra, Papel o Tijeras\n",
    "Escribe un programa que permita al usuario jugar piedra, papel o tijeras\n",
    "contra la computadora.\n"
   ]
  },
  {
   "cell_type": "code",
   "execution_count": null,
   "id": "9990a7ec",
   "metadata": {},
   "outputs": [],
   "source": [
    "import random\n",
    "\n",
    "opciones = [\"piedra\", \"papel\", \"tijera\"]\n",
    "usuario = input(\"Elegí: piedra, papel o tijera: \").lower()\n",
    "computadora = random.choice(opciones)\n",
    "\n",
    "print(\"Computadora eligió:\", computadora)\n",
    "\n",
    "if usuario == computadora:\n",
    "    print(\"Empate\")\n",
    "elif (usuario == \"piedra\" and computadora == \"tijera\") or \\\n",
    "     (usuario == \"papel\" and computadora == \"piedra\") or \\\n",
    "     (usuario == \"tijera\" and computadora == \"papel\"):\n",
    "    print(\"¡Ganaste!\")\n",
    "else:\n",
    "    print(\"Perdiste\")\n"
   ]
  },
  {
   "cell_type": "markdown",
   "id": "cf8d6aef",
   "metadata": {},
   "source": [
    "# Dia 8 - Generador de Contraseñas Seguras\n",
    "Escribe un programa que genere una contraseña segura de longitud\n",
    "variable (entre 8 y 16 caracteres) que incluya letras mayúsculas,\n",
    "minúsculas, números y símbolos."
   ]
  },
  {
   "cell_type": "code",
   "execution_count": null,
   "id": "5a0f057d",
   "metadata": {},
   "outputs": [],
   "source": [
    "import random\n",
    "import string\n",
    "\n",
    "long = int(input(\"Longitud (8-16): \"))\n",
    "if 8 <= long <= 16:\n",
    "    letras = string.ascii_letters\n",
    "    numeros = string.digits\n",
    "    simbolos = string.punctuation\n",
    "    todos = letras + numeros + simbolos\n",
    "    contraseña = \"\".join(random.choice(todos) for _ in range(long))\n",
    "    print(\"Contraseña:\", contraseña)\n",
    "else:\n",
    "    print(\"Número no válido\")\n"
   ]
  }
 ],
 "metadata": {
  "kernelspec": {
   "display_name": "Python 3",
   "language": "python",
   "name": "python3"
  },
  "language_info": {
   "codemirror_mode": {
    "name": "ipython",
    "version": 3
   },
   "file_extension": ".py",
   "mimetype": "text/x-python",
   "name": "python",
   "nbconvert_exporter": "python",
   "pygments_lexer": "ipython3",
   "version": "3.13.3"
  }
 },
 "nbformat": 4,
 "nbformat_minor": 5
}
